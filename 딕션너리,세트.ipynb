{
  "nbformat": 4,
  "nbformat_minor": 0,
  "metadata": {
    "colab": {
      "provenance": [],
      "collapsed_sections": [],
      "authorship_tag": "ABX9TyOd5CO/TkTOi+t8vO+ZHEJU",
      "include_colab_link": true
    },
    "kernelspec": {
      "name": "python3",
      "display_name": "Python 3"
    },
    "language_info": {
      "name": "python"
    }
  },
  "cells": [
    {
      "cell_type": "markdown",
      "metadata": {
        "id": "view-in-github",
        "colab_type": "text"
      },
      "source": [
        "<a href=\"https://colab.research.google.com/github/wang-hsoo/python/blob/main/%EB%94%95%EC%85%98%EB%84%88%EB%A6%AC%2C%EC%84%B8%ED%8A%B8.ipynb\" target=\"_parent\"><img src=\"https://colab.research.google.com/assets/colab-badge.svg\" alt=\"Open In Colab\"/></a>"
      ]
    },
    {
      "cell_type": "markdown",
      "source": [
        "##튜플\n",
        "- tuple : ( ) \n",
        "- 변경 불가능\n",
        "- 순서가 있다 : index 사용 -> 인덱싱, 슬라이싱"
      ],
      "metadata": {
        "id": "9hQiuX3GF_mx"
      }
    },
    {
      "cell_type": "code",
      "source": [
        "aa = (1, 2, 3, 4, 5)\n",
        "print(aa)\n",
        "print(type(aa))\n",
        "#aa.append(10) => 변경 불가능"
      ],
      "metadata": {
        "colab": {
          "base_uri": "https://localhost:8080/"
        },
        "id": "KhjRmxktGDe4",
        "outputId": "8004846e-35c5-428b-cfea-16cf1ecef141"
      },
      "execution_count": null,
      "outputs": [
        {
          "output_type": "stream",
          "name": "stdout",
          "text": [
            "(1, 2, 3, 4, 5)\n",
            "<class 'tuple'>\n"
          ]
        }
      ]
    },
    {
      "cell_type": "code",
      "source": [
        "aa = (10, 20, 30, 40, 50)\n",
        "print(aa[0])\n",
        "print(aa[-2])\n"
      ],
      "metadata": {
        "colab": {
          "base_uri": "https://localhost:8080/"
        },
        "id": "NrysurabG9vA",
        "outputId": "d7b1cd97-b2e8-4cea-ed6a-8efc6c9f6982"
      },
      "execution_count": null,
      "outputs": [
        {
          "output_type": "stream",
          "name": "stdout",
          "text": [
            "10\n"
          ]
        }
      ]
    },
    {
      "cell_type": "code",
      "source": [
        "aa = (10, 20, 30,(1,2,3), 40, 50, 60, 70, 80, 90)#중첩인덱싱\n",
        "\n",
        "print(aa[::2])\n",
        "print(aa[3][0]) "
      ],
      "metadata": {
        "colab": {
          "base_uri": "https://localhost:8080/"
        },
        "id": "fTba1QweHQ7_",
        "outputId": "597f6a92-ab13-4842-c0e7-d9464773b95e"
      },
      "execution_count": null,
      "outputs": [
        {
          "output_type": "stream",
          "name": "stdout",
          "text": [
            "(10, 30, 40, 60, 80)\n",
            "1\n"
          ]
        }
      ]
    },
    {
      "cell_type": "code",
      "source": [
        "aa = (1, 2, 3)\n",
        "bb = (4, 5, 6)\n",
        "cc = aa + bb\n",
        "\n",
        "print(aa+bb)\n",
        "print(cc)\n",
        "print(aa*3)\n",
        "\n",
        "#튜플 -> 리스트, 리스트 -> 튜플\n",
        "cc = list(aa)\n",
        "print(type(cc))\n",
        "dd = tuple(cc)\n",
        "print(dd)"
      ],
      "metadata": {
        "colab": {
          "base_uri": "https://localhost:8080/"
        },
        "id": "dEoS32RuH7QA",
        "outputId": "4d7ceb40-73e6-44c4-9f9d-155cad139766"
      },
      "execution_count": null,
      "outputs": [
        {
          "output_type": "stream",
          "name": "stdout",
          "text": [
            "(1, 2, 3, 4, 5, 6)\n",
            "(1, 2, 3, 4, 5, 6)\n",
            "(1, 2, 3, 1, 2, 3, 1, 2, 3)\n",
            "<class 'list'>\n",
            "(1, 2, 3)\n"
          ]
        }
      ]
    },
    {
      "cell_type": "markdown",
      "source": [
        "#딕션너리"
      ],
      "metadata": {
        "id": "2lsKR5lXJDGn"
      }
    },
    {
      "cell_type": "code",
      "source": [
        "# {k:v, k:v}\n",
        "#순서 없음\n",
        "#키로 값을 찾는다, 키는 변하지 않는다, 중복안된다, 값은 변한다\n",
        "\n",
        "#키 => 숫자, 문자, 불린형, 세트\n",
        "aa = {'김밥' : 2500, '라면' : 3000, '오뎅' : 1000}\n",
        "\n",
        "#키로 값 찾기\n",
        "print(aa['김밥'])  \n",
        "print(aa.get('김밥')) # 사용빈도가 높다!\n",
        "\n",
        "#print(aa['떡볶이'])  #찾는 키가 없으면 오류\n",
        "print(aa.get('떡볶이')) # none 값 출력\n",
        "\n"
      ],
      "metadata": {
        "colab": {
          "base_uri": "https://localhost:8080/"
        },
        "id": "fk2vtBQ1JHb-",
        "outputId": "497cca47-ff4c-4eed-f800-27aa1ee17306"
      },
      "execution_count": null,
      "outputs": [
        {
          "output_type": "stream",
          "name": "stdout",
          "text": [
            "2500\n",
            "2500\n"
          ]
        }
      ]
    },
    {
      "cell_type": "code",
      "source": [
        "# 값 변경\n",
        "aa = {'김밥' : 2500, '라면' : 3000, '오뎅' : 1000}\n",
        "\n",
        "aa['라면'] = 3500#있으면 수정\n",
        "print(aa)\n",
        "\n",
        "aa['튀김'] = 5000#없으면 추가\n",
        "print(aa)"
      ],
      "metadata": {
        "id": "ClyKBXVILl5_"
      },
      "execution_count": null,
      "outputs": []
    },
    {
      "cell_type": "code",
      "source": [
        "# 정보출력\n",
        "\n",
        "aa = {'김밥' : 2500, '라면' : 3000, '오뎅' : 1000}\n",
        "\n",
        "print(type(aa.keys()))\n",
        "print(aa.values())\n",
        "print(aa.items())"
      ],
      "metadata": {
        "colab": {
          "base_uri": "https://localhost:8080/"
        },
        "id": "Jnn8YbdbMAdu",
        "outputId": "6c559874-66c2-48ea-cabb-168242967184"
      },
      "execution_count": null,
      "outputs": [
        {
          "output_type": "stream",
          "name": "stdout",
          "text": [
            "<class 'dict_keys'>\n",
            "dict_values([2500, 3000, 1000])\n",
            "dict_items([('김밥', 2500), ('라면', 3000), ('오뎅', 1000)])\n"
          ]
        }
      ]
    },
    {
      "cell_type": "code",
      "source": [
        "#삭제\n",
        "aa = {'김밥' : 2500, '라면' : 3000, '오뎅' : 1000}\n",
        "\n",
        "aa.pop('김밥')\n",
        "print(aa)\n",
        "\n",
        "aa.clear()\n",
        "print(aa)"
      ],
      "metadata": {
        "colab": {
          "base_uri": "https://localhost:8080/"
        },
        "id": "GlRRkZBwMkgw",
        "outputId": "18644b17-4d53-4eea-d6d2-19156e514cb2"
      },
      "execution_count": null,
      "outputs": [
        {
          "output_type": "stream",
          "name": "stdout",
          "text": [
            "{'라면': 3000, '오뎅': 1000}\n",
            "{}\n"
          ]
        }
      ]
    },
    {
      "cell_type": "markdown",
      "source": [],
      "metadata": {
        "id": "u-CoZv0YJCCI"
      }
    },
    {
      "cell_type": "markdown",
      "source": [
        "##세트\n",
        "- set : {}\n",
        "- 집합\n",
        "- 값을 수정할 수 없음, 추가는 가능\n",
        "- 중복을 허락하지 않음\n",
        "- 순서 없음"
      ],
      "metadata": {
        "id": "XgSAo69cNUVN"
      }
    },
    {
      "cell_type": "code",
      "source": [
        "aa = {1, 2, 3}\n",
        "bb = {4, 5, 6}\n",
        "print(type(aa))\n",
        "aa.add(4)\n",
        "print(aa)\n",
        "\n",
        "aa.update(bb) # 세트에 다른 세트가 추가\n",
        "print(aa)\n",
        "\n"
      ],
      "metadata": {
        "colab": {
          "base_uri": "https://localhost:8080/"
        },
        "id": "mw9LP1aXNxSN",
        "outputId": "a665d99d-7979-434b-9783-dd9818ea3257"
      },
      "execution_count": null,
      "outputs": [
        {
          "output_type": "stream",
          "name": "stdout",
          "text": [
            "<class 'set'>\n",
            "{1, 2, 3, 4}\n",
            "{1, 2, 3, 4, 5, 6}\n"
          ]
        }
      ]
    },
    {
      "cell_type": "code",
      "source": [
        "#세트 연산\n",
        "\n",
        "aa = {1, 2, 3, 4, 5}\n",
        "bb = {4, 5, 6}\n",
        "cc = aa.intersection(bb) # 교집합\n",
        "dd = aa.union(bb)        # 합집합 #중복 배제\n",
        "print(cc)\n",
        "print(dd)"
      ],
      "metadata": {
        "colab": {
          "base_uri": "https://localhost:8080/"
        },
        "id": "ywfUl-UFO0zt",
        "outputId": "65639061-9049-4ebd-fe7b-645068bff324"
      },
      "execution_count": null,
      "outputs": [
        {
          "output_type": "stream",
          "name": "stdout",
          "text": [
            "{4, 5}\n",
            "{1, 2, 3, 4, 5, 6}\n"
          ]
        }
      ]
    },
    {
      "cell_type": "code",
      "source": [
        "#세트 연산자\n",
        "#리스트에서 지원안됨\n",
        "# &, |, -, ^\n",
        "\n",
        "aa = {1, 2, 3, 4, 5}\n",
        "bb = {4, 5, 6}\n",
        "\n",
        "print(aa & bb) # 교집합\n",
        "print(aa | bb) # 합집합\n",
        "print(aa - bb) # 차집합\n",
        "print(aa ^ bb) # 여집합\n",
        "\n",
        "list_aa = list(aa)\n",
        "set_aa = set(list_aa)"
      ],
      "metadata": {
        "colab": {
          "base_uri": "https://localhost:8080/"
        },
        "id": "ZJpPg-rMPm5u",
        "outputId": "13537d58-1b7a-405c-d6c5-c60c54d8ac42"
      },
      "execution_count": null,
      "outputs": [
        {
          "output_type": "stream",
          "name": "stdout",
          "text": [
            "{4, 5}\n",
            "{1, 2, 3, 4, 5, 6}\n",
            "{1, 2, 3}\n",
            "{1, 2, 3, 6}\n"
          ]
        }
      ]
    },
    {
      "cell_type": "code",
      "source": [
        "#세트 문제 \n",
        "\n",
        "# 중복된 값을 제거\n",
        "\n",
        "import random\n",
        "\n",
        "aa = []\n",
        "\n",
        "for i in range(20):\n",
        "  aa.append( random.randint(1,9)) # 1-9\n",
        "\n",
        "print( \"원본 리스트 : \", aa)\n",
        "\n",
        "bb = list(set(aa))\n",
        "\n",
        "print(\"중복 제거 리스트: \", bb)\n",
        "\n",
        "\n"
      ],
      "metadata": {
        "colab": {
          "base_uri": "https://localhost:8080/"
        },
        "id": "jkGLuhuQQgym",
        "outputId": "84105de7-ab58-4413-ac86-e4e0e9b46300"
      },
      "execution_count": null,
      "outputs": [
        {
          "output_type": "stream",
          "name": "stdout",
          "text": [
            "원본 리스트 :  [5, 9, 8, 6, 5, 6, 2, 7, 6, 3, 2, 3, 4, 6, 7, 1, 8, 5, 3, 7]\n",
            "중복 제거 리스트:  [1, 2, 3, 4, 5, 6, 7, 8, 9]\n"
          ]
        }
      ]
    },
    {
      "cell_type": "code",
      "source": [
        "#딕션너리 - 분배\n",
        "#면번씩 중복\n",
        "\n",
        "aa = [1,2,2,2,2,3,3,4,4,5,5,4,6,7,8,8]\n",
        "dic = {}\n",
        "\n",
        "for i in aa:\n",
        "  if dic.get(i) == None:\n",
        "    dic[i] = aa.count(i)\n",
        "\n",
        "print(dic)"
      ],
      "metadata": {
        "colab": {
          "base_uri": "https://localhost:8080/"
        },
        "id": "VGrU7Ua8Rn_l",
        "outputId": "13f322ae-0a0f-494f-da48-717a78f062da"
      },
      "execution_count": null,
      "outputs": [
        {
          "output_type": "stream",
          "name": "stdout",
          "text": [
            "{1: 1, 2: 4, 3: 2, 4: 3, 5: 2, 6: 1, 7: 1, 8: 2}\n"
          ]
        }
      ]
    }
  ]
}