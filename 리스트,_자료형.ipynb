{
  "nbformat": 4,
  "nbformat_minor": 0,
  "metadata": {
    "colab": {
      "provenance": [],
      "collapsed_sections": [],
      "include_colab_link": true
    },
    "kernelspec": {
      "name": "python3",
      "display_name": "Python 3"
    },
    "language_info": {
      "name": "python"
    }
  },
  "cells": [
    {
      "cell_type": "markdown",
      "metadata": {
        "id": "view-in-github",
        "colab_type": "text"
      },
      "source": [
        "<a href=\"https://colab.research.google.com/github/wang-hsoo/python/blob/main/%EB%A6%AC%EC%8A%A4%ED%8A%B8%2C_%EC%9E%90%EB%A3%8C%ED%98%95.ipynb\" target=\"_parent\"><img src=\"https://colab.research.google.com/assets/colab-badge.svg\" alt=\"Open In Colab\"/></a>"
      ]
    },
    {
      "cell_type": "markdown",
      "source": [
        "자료형"
      ],
      "metadata": {
        "id": "St7ECL4O7mn_"
      }
    },
    {
      "cell_type": "code",
      "source": [
        "a= 100\n",
        "b= 1.5678\n",
        "c= 0.23e5 # 23000.0\n",
        "\n",
        "print(type(a))\n",
        "print(type(b))\n",
        "print(type(c))"
      ],
      "metadata": {
        "id": "YNAX8GV17nw5"
      },
      "execution_count": null,
      "outputs": []
    },
    {
      "cell_type": "code",
      "source": [
        "#파이썬 증감연산자\n",
        "# ++a, a++ 사용안함\n",
        "\n",
        "a = 10\n",
        "#print(a++)\n",
        "print(++a) # a의 양의정수"
      ],
      "metadata": {
        "id": "S94K9nRO9kjH"
      },
      "execution_count": null,
      "outputs": []
    },
    {
      "cell_type": "code",
      "source": [
        "#논리 연산자 : and, or ,not, : && ,||\n",
        "\n",
        "a=5\n",
        "b=10\n",
        "\n",
        "# if a < 10 and b < 20 : ==> T and T => T\n",
        "# if a < 10 or  b < 20 : ==> T or  T => T\n",
        "\n",
        "#숏 서킷룰 : 좌향만을 결과 값으로 and, or 연산결과를 판별하는 기능"
      ],
      "metadata": {
        "id": "tmbIERkX9xjq"
      },
      "execution_count": null,
      "outputs": []
    },
    {
      "cell_type": "code",
      "source": [
        "#표준 입출력 함수\n",
        "\n",
        "a=10\n",
        "b=1.5678\n",
        "\n",
        "print(a,b)\n",
        "print(\"a = %d\" %a)\n",
        "print(\"a = %d, b = %2.f\" %(a,b) )\n",
        "\n",
        "print('{0} * {1} = {2}'.format(a,b,a*b)) #format함수\n",
        "print(f'a={a}, b={b}')"
      ],
      "metadata": {
        "id": "qt6n0ZJ2Bf1v"
      },
      "execution_count": null,
      "outputs": []
    },
    {
      "cell_type": "markdown",
      "source": [],
      "metadata": {
        "id": "yTnOD_OzBfn3"
      }
    },
    {
      "cell_type": "markdown",
      "source": [
        "리스트"
      ],
      "metadata": {
        "id": "Js1OqL-vHGvv"
      }
    },
    {
      "cell_type": "code",
      "source": [
        "#리스트 선언\n",
        "\n",
        "a = [] #리스트 선언\n",
        "\n",
        "aa= [1,2,3,4]\n",
        "bb= [1,2,3.5,'ab']\n",
        "\n",
        "# range(start,stop,step) ==> stop 필수, start 생략시 0, step 생략시 1\n",
        "# range(0,10,1) => (0,1,2,3,4,5,6,7,8,9) =>10\n",
        "# range(10)     => (0,1,2,3,4,5,6,7,8,9)\n",
        "print(type(range(0,101,10)))\n",
        "aa = list( range(0,101,10))\n",
        "print(aa)\n"
      ],
      "metadata": {
        "id": "aVirMZbeHGHp"
      },
      "execution_count": null,
      "outputs": []
    },
    {
      "cell_type": "code",
      "source": [
        "#리스트 인덱싱\n",
        "#인덱스(위치) 값(요소) 가져오는 것\n",
        "\n",
        "aa = [10,20,30,40]\n",
        "print(aa)\n",
        "print(aa[1],aa[2])\n",
        "print(aa[-1],aa[-2])"
      ],
      "metadata": {
        "id": "qURBTNLDJ0bo"
      },
      "execution_count": null,
      "outputs": []
    },
    {
      "cell_type": "code",
      "source": [
        "#리스트 슬라이싱\n",
        "#리스트 값에 일부만 취할 때\n",
        "\n",
        "aa = [0,10,20,30,40,50,60,70,80,90]\n",
        "\n",
        "print(aa[0:3:1])\n",
        "print(aa[0:8:2])\n",
        "print(aa[::2])\n",
        "print(aa[::-1])\n",
        "print(aa[-5::])"
      ],
      "metadata": {
        "id": "nMi131DRKfC-",
        "colab": {
          "base_uri": "https://localhost:8080/"
        },
        "outputId": "dbe1a69e-5744-4c0d-bf42-16ca456b617b"
      },
      "execution_count": null,
      "outputs": [
        {
          "output_type": "stream",
          "name": "stdout",
          "text": [
            "[0, 10, 20]\n",
            "[0, 20, 40, 60]\n",
            "[0, 20, 40, 60, 80]\n",
            "[90, 80, 70, 60, 50, 40, 30, 20, 10, 0]\n",
            "[50, 60, 70, 80, 90]\n"
          ]
        }
      ]
    },
    {
      "cell_type": "code",
      "source": [
        "#리스트 연산\n",
        "\n",
        "aa = [10,20,30]\n",
        "bb = [70,80,90]\n",
        "\n",
        "print(aa+bb)\n"
      ],
      "metadata": {
        "id": "zWudotmGMNoY"
      },
      "execution_count": null,
      "outputs": []
    },
    {
      "cell_type": "code",
      "source": [
        "\n",
        "aa = [10,20,30]\n",
        "aa.append('aaa')\n",
        "print(aa)\n",
        "\n",
        "#원하는 위치에 추가\n",
        "aa.insert(2,55)\n",
        "print(aa)"
      ],
      "metadata": {
        "id": "1nKqTPuHNkUj"
      },
      "execution_count": null,
      "outputs": []
    },
    {
      "cell_type": "code",
      "source": [
        "#삭제\n",
        "\n",
        "aa = [10,20,30,40,50]\n",
        "aa.pop()\n",
        "print(aa)\n",
        "\n",
        "aa.pop(1)\n",
        "print(aa)\n",
        "\n",
        "aa = [10,20,30,40,50,60]\n",
        "aa.remove(30)\n",
        "print(aa)"
      ],
      "metadata": {
        "id": "slljoE3oOB97"
      },
      "execution_count": null,
      "outputs": []
    },
    {
      "cell_type": "code",
      "source": [
        "#삭제 -2\n",
        "\n",
        "aa = [10,20,30,40,50,60,70,80]\n",
        "\n",
        "del aa[3]\n",
        "print(aa)\n",
        "\n",
        "del aa[1:3]\n",
        "print(aa)\n",
        "\n",
        "#리스트 전체 지울때\n",
        "\n",
        "aa = [10,20,30,40,50,60,70,80]\n",
        "\n",
        "aa.clear()\n",
        "print(aa)\n",
        "\n",
        "del aa"
      ],
      "metadata": {
        "id": "724m8vD8O1Yl"
      },
      "execution_count": null,
      "outputs": []
    },
    {
      "cell_type": "code",
      "source": [
        "#리스트 정렬\n",
        "\n",
        "aa = [94,7,68,9,22,47,11,90]\n",
        "\n",
        "#aa.sort() #리스트 자체가 정렬\n",
        "print(sorted(aa))\n",
        "print(aa)\n",
        "\n",
        "aa.sort()\n",
        "print(aa)\n",
        "aa.reverse()\n",
        "print(aa)"
      ],
      "metadata": {
        "id": "c4O0-n02RZty"
      },
      "execution_count": null,
      "outputs": []
    },
    {
      "cell_type": "code",
      "source": [
        "from IPython.core.application import deepcopy\n",
        "# 깊은 복사, 얇은 복사\n",
        "\n",
        "a = 10\n",
        "b = a\n",
        "a = 20\n",
        "\n",
        "print(a,b)\n",
        "\n",
        "#---------------------------\n",
        "\n",
        "aa = [10, 20, 30, 40]\n",
        "#bb = aa #아이디 값이 복사 aa의 주소가 들어감 얇은 복사\n",
        "\n",
        "bb = deepcopy(aa) # 깊은 복사\n",
        "\n",
        "# aa = [4, 3, 2, 1]\n",
        "# print(aa, bb)\n",
        "\n",
        "aa.reverse() # bb도 역순으로 바뀜\n",
        "print(aa, bb)\n",
        "\n"
      ],
      "metadata": {
        "colab": {
          "base_uri": "https://localhost:8080/"
        },
        "id": "JQvnbG5e5fr8",
        "outputId": "cd663415-6775-4876-fa7b-341b1889d2a2"
      },
      "execution_count": null,
      "outputs": [
        {
          "output_type": "stream",
          "name": "stdout",
          "text": [
            "20 10\n",
            "[40, 30, 20, 10] [10, 20, 30, 40]\n"
          ]
        }
      ]
    },
    {
      "cell_type": "code",
      "source": [
        "#리스트 함수\n",
        "#리스트 안에 특정값의 갯수를 세는 함수 => count\n",
        "\n",
        "aa = [1,2,3,2,3,3,2,3,4,5,6]\n",
        "print(aa.count(2))"
      ],
      "metadata": {
        "colab": {
          "base_uri": "https://localhost:8080/"
        },
        "id": "Q2_CaUVd7qTz",
        "outputId": "f2074dd1-2c55-41c9-899c-03f471f7df41"
      },
      "execution_count": null,
      "outputs": [
        {
          "output_type": "stream",
          "name": "stdout",
          "text": [
            "3\n"
          ]
        }
      ]
    },
    {
      "cell_type": "markdown",
      "source": [
        "##리스트 문제"
      ],
      "metadata": {
        "id": "lvVkBmn48Ol6"
      }
    },
    {
      "cell_type": "code",
      "source": [
        "##리스트 문제 1\n",
        "#임의의 리스트에서 원하는 값을 검색하는 pg\n",
        "\n",
        "aa = [23, 43, 4, 65, 12, 45, 65, 66, 77]\n",
        "print(aa)\n",
        "\n",
        "num = int(input(\"찾는 숫자 입력 : \"))\n",
        "\n",
        "#if num not in aa:\n",
        "if aa.count(num) == 0:\n",
        "  print(\"찾는 값이 리스트에 없음\")\n",
        "else :\n",
        "  print(\"찾는 값이 리스트의 %d 위치에 있습니다\" %aa.index(num))"
      ],
      "metadata": {
        "colab": {
          "base_uri": "https://localhost:8080/"
        },
        "id": "LDDf9fbO8JZD",
        "outputId": "23afca52-7112-4723-9c6e-1191850d350e"
      },
      "execution_count": null,
      "outputs": [
        {
          "output_type": "stream",
          "name": "stdout",
          "text": [
            "[23, 43, 4, 65, 12, 45, 65, 66, 77]\n",
            "찾는 숫자 입력 : 23\n",
            "찾는 값이 리스트의 0 위치에 있습니다\n"
          ]
        }
      ]
    },
    {
      "cell_type": "code",
      "source": [
        "#리스트 문제 2\n",
        "#리스트에서 조건에 맞는 값만 새로운 리스트에 저장하고 출력\n",
        "\n",
        "aa = list(range(0,100,5))\n",
        "bb = []\n",
        "num = int(input(\"입력한 값보다 큰값을 검색 : \"))\n",
        "\n",
        "for i in aa:\n",
        "  if num < i:\n",
        "    bb.append(i)\n",
        "\n",
        "\n",
        "print(\"조건에 맞는 값만 저장한 리스트 : \", bb)"
      ],
      "metadata": {
        "colab": {
          "base_uri": "https://localhost:8080/"
        },
        "id": "rebDOSZW-tnD",
        "outputId": "40e5b905-75d5-4eda-932c-4155e5d3a8ed"
      },
      "execution_count": null,
      "outputs": [
        {
          "output_type": "stream",
          "name": "stdout",
          "text": [
            "입력한 값보다 큰값을 검색 : 2\n",
            "[0, 5, 10, 15, 20, 25, 30, 35, 40, 45, 50, 55, 60, 65, 70, 75, 80, 85, 90, 95]\n",
            "조건에 맞는 값만 저장한 리스트 :  [5, 10, 15, 20, 25, 30, 35, 40, 45, 50, 55, 60, 65, 70, 75, 80, 85, 90, 95]\n"
          ]
        }
      ]
    },
    {
      "cell_type": "code",
      "source": [
        "#리스트 문제 3\n",
        "#중복된 값만 출력\n",
        "\n",
        "aa = [ 1, 2, 2, 2, 3, 5, 4, 32, 2, 2,2 ,5, 6, 7,]\n",
        "bb = [] #중복된 값만 저장할 리스트\n",
        "\n",
        "for i in aa:\n",
        "  if i not in bb:\n",
        "    bb.append(i)\n",
        "\n",
        "\n",
        "\n",
        "print(bb)"
      ],
      "metadata": {
        "colab": {
          "base_uri": "https://localhost:8080/"
        },
        "id": "P87Ol-HjAi_S",
        "outputId": "790c3210-1913-4ed9-f26d-9e4e9773f3cf"
      },
      "execution_count": null,
      "outputs": [
        {
          "output_type": "stream",
          "name": "stdout",
          "text": [
            "[1, 2, 3, 5, 4, 32, 6, 7]\n"
          ]
        }
      ]
    },
    {
      "cell_type": "markdown",
      "source": [],
      "metadata": {
        "id": "ToFGWD128TwT"
      }
    }
  ]
}