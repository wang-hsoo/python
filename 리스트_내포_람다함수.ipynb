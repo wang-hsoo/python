{
  "nbformat": 4,
  "nbformat_minor": 0,
  "metadata": {
    "colab": {
      "provenance": [],
      "collapsed_sections": [],
      "authorship_tag": "ABX9TyPigG8Hx1fBZ3yDmsQeGjM2",
      "include_colab_link": true
    },
    "kernelspec": {
      "name": "python3",
      "display_name": "Python 3"
    },
    "language_info": {
      "name": "python"
    }
  },
  "cells": [
    {
      "cell_type": "markdown",
      "metadata": {
        "id": "view-in-github",
        "colab_type": "text"
      },
      "source": [
        "<a href=\"https://colab.research.google.com/github/wang-hsoo/python/blob/main/%EB%A6%AC%EC%8A%A4%ED%8A%B8_%EB%82%B4%ED%8F%AC_%EB%9E%8C%EB%8B%A4%ED%95%A8%EC%88%98.ipynb\" target=\"_parent\"><img src=\"https://colab.research.google.com/assets/colab-badge.svg\" alt=\"Open In Colab\"/></a>"
      ]
    },
    {
      "cell_type": "code",
      "execution_count": null,
      "metadata": {
        "colab": {
          "base_uri": "https://localhost:8080/"
        },
        "id": "m0IXpT3c7dw4",
        "outputId": "68feb909-ee66-42b4-9744-d4ec901ec58f"
      },
      "outputs": [
        {
          "output_type": "execute_result",
          "data": {
            "text/plain": [
              "[1, 2, 3, 4, 5, 6, 7, 8, 9, 10]"
            ]
          },
          "metadata": {},
          "execution_count": 1
        }
      ],
      "source": [
        "#리스트 생성\n",
        "\n",
        "num = [1, 2 ,3 ,4 ,5, 6, 7, 8, 9, 10]\n",
        "num "
      ]
    },
    {
      "cell_type": "code",
      "source": [
        "num = list(range(10))\n",
        "num"
      ],
      "metadata": {
        "colab": {
          "base_uri": "https://localhost:8080/"
        },
        "id": "PEg24EEv8K_J",
        "outputId": "d94e392e-1771-432c-af66-5bb5271f58cf"
      },
      "execution_count": null,
      "outputs": [
        {
          "output_type": "execute_result",
          "data": {
            "text/plain": [
              "[0, 1, 2, 3, 4, 5, 6, 7, 8, 9]"
            ]
          },
          "metadata": {},
          "execution_count": 2
        }
      ]
    },
    {
      "cell_type": "code",
      "source": [
        "num = []\n",
        "for i in range(10):\n",
        "  num.append(i)\n",
        "\n",
        "num"
      ],
      "metadata": {
        "colab": {
          "base_uri": "https://localhost:8080/"
        },
        "id": "I3DFqtFt8RDp",
        "outputId": "3e24dd50-0da4-4f85-d6af-a05625dcfda3"
      },
      "execution_count": null,
      "outputs": [
        {
          "output_type": "execute_result",
          "data": {
            "text/plain": [
              "[0, 1, 2, 3, 4, 5, 6, 7, 8, 9]"
            ]
          },
          "metadata": {},
          "execution_count": 3
        }
      ]
    },
    {
      "cell_type": "code",
      "source": [
        "#리스트 내포\n",
        "#리스트 안에 for문과 if문을 한 라인에 작성 => 직관적, 실행속도 높아짐\n",
        "\n",
        "#리스트명 = [ 표현식 for 변수 in 반복대상 if 조건문 ]\n",
        "\n",
        "num1 = [ i for i in range(10)] # 0 ~ 9\n",
        "num1"
      ],
      "metadata": {
        "colab": {
          "base_uri": "https://localhost:8080/"
        },
        "id": "ZRl_1pH08dMY",
        "outputId": "8f17d37c-9fc2-4fd0-bda7-9260a8033745"
      },
      "execution_count": null,
      "outputs": [
        {
          "output_type": "execute_result",
          "data": {
            "text/plain": [
              "[0, 1, 2, 3, 4, 5, 6, 7, 8, 9]"
            ]
          },
          "metadata": {},
          "execution_count": 4
        }
      ]
    },
    {
      "cell_type": "code",
      "source": [
        "num2 = [ i * 2 for i in range(10)]\n",
        "num2"
      ],
      "metadata": {
        "colab": {
          "base_uri": "https://localhost:8080/"
        },
        "id": "Y8iEQa7F9jR4",
        "outputId": "05d1320a-b214-4345-ebdb-944d53610750"
      },
      "execution_count": null,
      "outputs": [
        {
          "output_type": "execute_result",
          "data": {
            "text/plain": [
              "[0, 2, 4, 6, 8, 10, 12, 14, 16, 18]"
            ]
          },
          "metadata": {},
          "execution_count": 5
        }
      ]
    },
    {
      "cell_type": "code",
      "source": [
        "num3 = [ i * 2 for i in range(10) if i % 3 == 0]\n",
        "num3"
      ],
      "metadata": {
        "colab": {
          "base_uri": "https://localhost:8080/"
        },
        "id": "TqBL_AMa94uQ",
        "outputId": "7400dfae-3372-4b31-f6bb-0598b8ad7627"
      },
      "execution_count": null,
      "outputs": [
        {
          "output_type": "execute_result",
          "data": {
            "text/plain": [
              "[0, 6, 12, 18]"
            ]
          },
          "metadata": {},
          "execution_count": 6
        }
      ]
    },
    {
      "cell_type": "markdown",
      "source": [
        "##함수\n",
        "- 매게변수 x, 반환값 x\n",
        "- 매게변수 x, 반환값 o\n",
        "- 매게변수 o, 반환값 x\n",
        "- 매게변수 o, 반환값 o => 일반적인 함수"
      ],
      "metadata": {
        "id": "ISv0HcVI-Qn6"
      }
    },
    {
      "cell_type": "code",
      "source": [
        "#매게변수 o, 반환값 o => 일반적인 함수\n",
        "def f1(num) :\n",
        "  return num * num\n",
        "\n",
        "f1(3)"
      ],
      "metadata": {
        "colab": {
          "base_uri": "https://localhost:8080/"
        },
        "id": "i-lYtf2l-zqA",
        "outputId": "ce01cdd7-8077-4dd2-eae0-35f3bdaca763"
      },
      "execution_count": null,
      "outputs": [
        {
          "output_type": "execute_result",
          "data": {
            "text/plain": [
              "9"
            ]
          },
          "metadata": {},
          "execution_count": 7
        }
      ]
    },
    {
      "cell_type": "code",
      "source": [
        "# 키워드 매게변수\n",
        "\n",
        "def add(n1, n2) :\n",
        "  return n1 + n2\n",
        "\n",
        "print( add(10, 20) )\n",
        "print( add(n2 = 10, n1 = 20) )"
      ],
      "metadata": {
        "colab": {
          "base_uri": "https://localhost:8080/"
        },
        "id": "Dxg8xBa-_NIw",
        "outputId": "210ca917-28df-4d7f-d72b-e9a68a678310"
      },
      "execution_count": null,
      "outputs": [
        {
          "output_type": "execute_result",
          "data": {
            "text/plain": [
              "30"
            ]
          },
          "metadata": {},
          "execution_count": 8
        }
      ]
    },
    {
      "cell_type": "code",
      "source": [
        "#가변매게변수\n",
        "#함수선언시 매게변수 앞에 * 표시 => 튜플\n",
        "\n",
        "\n",
        "def sum(*args) :\n",
        "  res = 0\n",
        "  for i in args :\n",
        "    res = res + i\n",
        "  return res\n",
        "\n",
        "print(sum(10, 20))\n",
        "\n",
        "print(sum(10, 20, 30))"
      ],
      "metadata": {
        "colab": {
          "base_uri": "https://localhost:8080/"
        },
        "id": "UEAUpgPk_1-P",
        "outputId": "db1114c2-06f0-4f1c-cfa6-19200e7bfe50"
      },
      "execution_count": null,
      "outputs": [
        {
          "output_type": "stream",
          "name": "stdout",
          "text": [
            "30\n",
            "60\n"
          ]
        }
      ]
    },
    {
      "cell_type": "code",
      "source": [
        "# 초기값 매게변수\n",
        "\n",
        "def add ( a= 10, b = 20) :\n",
        "  return a + b\n",
        "\n",
        "print(add())\n",
        "print(add(30, 40))\n",
        "print(add(b = 30))"
      ],
      "metadata": {
        "colab": {
          "base_uri": "https://localhost:8080/"
        },
        "id": "aQPjMM-qA-LX",
        "outputId": "48e2facd-9933-4607-9844-13e4b99f15c7"
      },
      "execution_count": null,
      "outputs": [
        {
          "output_type": "stream",
          "name": "stdout",
          "text": [
            "30\n",
            "70\n",
            "40\n"
          ]
        }
      ]
    },
    {
      "cell_type": "code",
      "source": [
        "#반환값 여러개 함수\n",
        "\n",
        "def pm( n1, n2) :\n",
        "  p = n1 + n2\n",
        "  m = n1 - n2\n",
        "  return p,m\n",
        "\n",
        "res1, res2 = pm(10, 2)\n",
        "print(res1, res2)"
      ],
      "metadata": {
        "colab": {
          "base_uri": "https://localhost:8080/"
        },
        "id": "aWVD1C8JBsyf",
        "outputId": "33645460-9997-42c8-8aa4-190204babd53"
      },
      "execution_count": null,
      "outputs": [
        {
          "output_type": "stream",
          "name": "stdout",
          "text": [
            "12 8\n"
          ]
        }
      ]
    },
    {
      "cell_type": "code",
      "source": [
        "#반환값 여러개 함수\n",
        "\n",
        "def pm( n1, n2) :\n",
        "  p = n1 + n2\n",
        "  m = n1 - n2\n",
        "  return p,m\n",
        "\n",
        "res1 = pm(10, 2) # res 는 튜플로 받는다\n",
        "print(res1[1], res1[0])"
      ],
      "metadata": {
        "colab": {
          "base_uri": "https://localhost:8080/"
        },
        "id": "aI_xPKlfCOTo",
        "outputId": "ca93ddef-04df-43bd-9ac2-282334982c5b"
      },
      "execution_count": null,
      "outputs": [
        {
          "output_type": "stream",
          "name": "stdout",
          "text": [
            "8 12\n"
          ]
        }
      ]
    },
    {
      "cell_type": "markdown",
      "source": [
        "##변수 유효 범위\n",
        "- 지역 변수\n",
        "- 전역 변수"
      ],
      "metadata": {
        "id": "BbbZjw2ECnWH"
      }
    },
    {
      "cell_type": "code",
      "source": [
        "def f1() :\n",
        "  x = 10\n",
        "  print(x)\n",
        "\n",
        "#메인코드\n",
        "f1()"
      ],
      "metadata": {
        "colab": {
          "base_uri": "https://localhost:8080/"
        },
        "id": "2RdDpLjsCz1H",
        "outputId": "2c90c68c-eafe-4a6d-a956-36f542a30fed"
      },
      "execution_count": null,
      "outputs": [
        {
          "output_type": "stream",
          "name": "stdout",
          "text": [
            "10\n"
          ]
        }
      ]
    },
    {
      "cell_type": "code",
      "source": [
        "def f1() :\n",
        "  x = 10\n",
        "  print(x)\n",
        "\n",
        "#메인코드\n",
        "x = 20\n",
        "f1()\n",
        "print(x)"
      ],
      "metadata": {
        "colab": {
          "base_uri": "https://localhost:8080/"
        },
        "id": "L8nNnA5tDOsP",
        "outputId": "6dc8800f-d633-47b5-a728-fe6b9c786da1"
      },
      "execution_count": null,
      "outputs": [
        {
          "output_type": "stream",
          "name": "stdout",
          "text": [
            "10\n",
            "20\n"
          ]
        }
      ]
    },
    {
      "cell_type": "code",
      "source": [
        "def f1() :\n",
        "  global x\n",
        "  x = 10\n",
        "  print(x)\n",
        "\n",
        "#메인코드\n",
        "x = 20\n",
        "f1()\n",
        "print(x)"
      ],
      "metadata": {
        "colab": {
          "base_uri": "https://localhost:8080/"
        },
        "id": "CoRnQ1c-DoKY",
        "outputId": "d6622800-a9ab-4a54-8f11-4b07aaf6aa84"
      },
      "execution_count": null,
      "outputs": [
        {
          "output_type": "stream",
          "name": "stdout",
          "text": [
            "10\n",
            "10\n"
          ]
        }
      ]
    },
    {
      "cell_type": "markdown",
      "source": [
        "##함수문제\n"
      ],
      "metadata": {
        "id": "pZ_GoQPRESIn"
      }
    },
    {
      "cell_type": "code",
      "source": [
        "# 전달 받은 값중에서 가장 큰값 반환\n",
        "\n",
        "def getMax(*args) :\n",
        "  max = 0\n",
        "  for i in args :\n",
        "    if max < i:\n",
        "      max = i\n",
        "  return max\n",
        "\n",
        "def ave (*args) :\n",
        "  a = 0\n",
        "  for i in args :\n",
        "    a = a + i\n",
        "  average = a / len(args)\n",
        "  return average\n",
        "\n",
        "print(getMax(10, 20, 30, 40, 50))\n",
        "\n",
        "print(getMax(10, 20, 30, 40123, 134242))\n",
        "\n",
        "print(ave(10, 20))\n",
        "\n",
        "print(ave(10, 20, 30, 40123, 134242))"
      ],
      "metadata": {
        "colab": {
          "base_uri": "https://localhost:8080/"
        },
        "id": "LO6IvuOZEP7-",
        "outputId": "016e4d29-3940-4ee4-fc69-9c9f7eb66bcc"
      },
      "execution_count": null,
      "outputs": [
        {
          "output_type": "stream",
          "name": "stdout",
          "text": [
            "50\n",
            "134242\n",
            "15.0\n",
            "34885.0\n"
          ]
        }
      ]
    },
    {
      "cell_type": "code",
      "source": [
        "#양수만 걸러주는 함수\n",
        "\n",
        "def positive( x ): #리스트의 주소 받는다! 메인쪽의 리스트 값 변경 가능\n",
        "  res = []\n",
        "\n",
        "  res = [ i for i in x if i >= 0]\n",
        "  # for i in x :\n",
        "  # if i >= 0:\n",
        "  #   res.append( i )\n",
        "  return res\n",
        "\n",
        "\n",
        "#메인코드\n",
        "aa = [ 1, -3, 2, 0, -7, 9]\n",
        "bb =positive(aa)\n",
        "print(bb)"
      ],
      "metadata": {
        "colab": {
          "base_uri": "https://localhost:8080/"
        },
        "id": "oQsLlGzPKLoW",
        "outputId": "321112ac-f038-4a3c-f6f9-036937102970"
      },
      "execution_count": null,
      "outputs": [
        {
          "output_type": "stream",
          "name": "stdout",
          "text": [
            "[1, 2, 0, 9]\n"
          ]
        }
      ]
    },
    {
      "cell_type": "code",
      "source": [
        "aa = [ 1, -3, 2, 0, -7, 9]\n",
        "bb = [ i for i in aa if i >= 0]\n",
        "print(bb)"
      ],
      "metadata": {
        "colab": {
          "base_uri": "https://localhost:8080/"
        },
        "id": "GAnTAQAUMdNM",
        "outputId": "9b471c42-409c-4bf2-befc-192b54ebb2d7"
      },
      "execution_count": null,
      "outputs": [
        {
          "output_type": "stream",
          "name": "stdout",
          "text": [
            "[1, 2, 0, 9]\n"
          ]
        }
      ]
    },
    {
      "cell_type": "markdown",
      "source": [
        "##람다함수"
      ],
      "metadata": {
        "id": "8tnJlTSnNpzE"
      }
    },
    {
      "cell_type": "code",
      "source": [
        "def add ( x, y ) :\n",
        "  return x + y\n",
        "\n",
        "add(10, 20)"
      ],
      "metadata": {
        "colab": {
          "base_uri": "https://localhost:8080/"
        },
        "id": "Je5RXlSHNrqU",
        "outputId": "361d42d2-672f-413b-821d-83e249c241af"
      },
      "execution_count": null,
      "outputs": [
        {
          "output_type": "execute_result",
          "data": {
            "text/plain": [
              "30"
            ]
          },
          "metadata": {},
          "execution_count": 55
        }
      ]
    },
    {
      "cell_type": "code",
      "source": [
        "#람다함수 정의\n",
        "#간단한 형태의 ( 한줄 표현 ) 함수\n",
        "#코드간단, 메모리 절약\n",
        "\n",
        "# ( lambda x, y: x+y ) (10, 20)\n",
        "\n",
        "(lambda x, y: x + y) (10, 20)"
      ],
      "metadata": {
        "colab": {
          "base_uri": "https://localhost:8080/"
        },
        "id": "K2ywq-nIN2_8",
        "outputId": "21cb85d8-f9a7-4b16-809b-e5677769ea68"
      },
      "execution_count": null,
      "outputs": [
        {
          "output_type": "execute_result",
          "data": {
            "text/plain": [
              "30"
            ]
          },
          "metadata": {},
          "execution_count": 56
        }
      ]
    },
    {
      "cell_type": "code",
      "source": [
        "f1 = lambda x, y: x + y\n",
        "f1(10, 20)"
      ],
      "metadata": {
        "id": "ZM7lqzSbO6jk",
        "outputId": "4359bb6f-b375-480d-cd58-a905251be843",
        "colab": {
          "base_uri": "https://localhost:8080/"
        }
      },
      "execution_count": null,
      "outputs": [
        {
          "output_type": "execute_result",
          "data": {
            "text/plain": [
              "30"
            ]
          },
          "metadata": {},
          "execution_count": 57
        }
      ]
    },
    {
      "cell_type": "markdown",
      "source": [
        "##Map 함수\n",
        "- 여러 요소에 하나의 함수를 한꺼번에 대응\n",
        "- 저장할 리스트 = list( map(함수명,리스트) )"
      ],
      "metadata": {
        "id": "-TXLr9XDPTzT"
      }
    },
    {
      "cell_type": "code",
      "source": [
        "aa = [2, 4, 5, 6, 7, 8, 9, 2]\n",
        "\n",
        "def mnul(x):\n",
        "  return x * 2\n",
        "\n",
        "\n",
        "\n",
        "\n",
        "bb = list(map(mnul,aa))\n",
        "print(bb)"
      ],
      "metadata": {
        "colab": {
          "base_uri": "https://localhost:8080/"
        },
        "id": "GBG5nFuaPRx0",
        "outputId": "252e3e1f-a69d-4dfc-fa26-ab6d2216a12f"
      },
      "execution_count": 58,
      "outputs": [
        {
          "output_type": "stream",
          "name": "stdout",
          "text": [
            "[4, 8, 10, 12, 14, 16, 18, 4]\n"
          ]
        }
      ]
    },
    {
      "cell_type": "code",
      "source": [
        "aa = [2, 4, 5, 6, 7, 8, 9, 2]\n",
        "\n",
        "mnul = lambda x: x * 2\n",
        "\n",
        "bb = list(map(mnul,aa))\n",
        "print(bb)"
      ],
      "metadata": {
        "colab": {
          "base_uri": "https://localhost:8080/"
        },
        "id": "QY0h2ff-Qpr7",
        "outputId": "8114d1dc-464a-4a59-f76f-5d89087c25ba"
      },
      "execution_count": 59,
      "outputs": [
        {
          "output_type": "stream",
          "name": "stdout",
          "text": [
            "[4, 8, 10, 12, 14, 16, 18, 4]\n"
          ]
        }
      ]
    }
  ]
}