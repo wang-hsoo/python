{
  "nbformat": 4,
  "nbformat_minor": 0,
  "metadata": {
    "colab": {
      "provenance": [],
      "collapsed_sections": [],
      "authorship_tag": "ABX9TyNuX/NXNfCDJ5ExZRbbtdqq",
      "include_colab_link": true
    },
    "kernelspec": {
      "name": "python3",
      "display_name": "Python 3"
    },
    "language_info": {
      "name": "python"
    }
  },
  "cells": [
    {
      "cell_type": "markdown",
      "metadata": {
        "id": "view-in-github",
        "colab_type": "text"
      },
      "source": [
        "<a href=\"https://colab.research.google.com/github/wang-hsoo/python/blob/main/%EC%A7%84%EB%8B%A8%ED%8F%89%EA%B0%80.ipynb\" target=\"_parent\"><img src=\"https://colab.research.google.com/assets/colab-badge.svg\" alt=\"Open In Colab\"/></a>"
      ]
    },
    {
      "cell_type": "code",
      "execution_count": null,
      "metadata": {
        "colab": {
          "base_uri": "https://localhost:8080/"
        },
        "id": "dG_eohgX9eol",
        "outputId": "57fe960b-946d-4578-d562-8c7751ab97e2"
      },
      "outputs": [
        {
          "output_type": "stream",
          "name": "stdout",
          "text": [
            "숫자입력 : 30\n",
            "숫자입력 : 20\n",
            "max = 30 min = 20 diff=10\n"
          ]
        }
      ],
      "source": [
        "# 1번문제\n",
        "num1 = input(\"숫자입력 : \");\n",
        "num2 = input(\"숫자입력 : \");\n",
        "\n",
        "if num1 > num2:\n",
        "  max = num1;\n",
        "  min = num2;\n",
        "  diff = int(num1) - int(num2);\n",
        "\n",
        "else:\n",
        "  max = num2;\n",
        "  min = num1;\n",
        "  diff = int(num2) - int(num1);\n",
        "\n",
        "print(\"max = \" + str(max) + \" min = \" + str(min) + \" diff=\" + str(diff) );"
      ]
    },
    {
      "cell_type": "code",
      "source": [
        "#2번문제\n",
        "\n",
        "getMoney = input(\"투입할 금액을 입력하세요 : \");\n",
        "Goods = input(\"상품 값을 입력하세요: \");\n",
        "\n",
        "if int(getMoney) > int(Goods) :\n",
        " change = int(getMoney) - int(Goods)\n",
        "else :\n",
        " print(\"금액이 부족합니다.\")\n",
        "\n",
        "print(f\"거스름돈 {change}원\")\n",
        "\n",
        "c500=change//500\n",
        "change %= 500\n",
        "\n",
        "c100 = change//100\n",
        "change %= 100\n",
        "\n",
        "c50= change//50\n",
        "change %=50\n",
        "\n",
        "print('=========================')\n",
        "print(f'500원 동전: {c500}개')\n",
        "print(f'100원 동전: {c100}개')\n",
        "print(f' 50원 동전: {c50}개')\n",
        "print(f'바꾸지 못한 돈 : {change}원')\n",
        "\n",
        "\n",
        "    "
      ],
      "metadata": {
        "colab": {
          "base_uri": "https://localhost:8080/"
        },
        "id": "qVlWSaVPAkdp",
        "outputId": "db251482-1d2a-46e2-bcb5-1f6a385fc41c"
      },
      "execution_count": null,
      "outputs": [
        {
          "output_type": "stream",
          "name": "stdout",
          "text": [
            "투입할 금액을 입력하세요 : 1000\n",
            "상품 값을 입력하세요: 500\n",
            "거스름돈 500원\n",
            "=========================\n",
            "500원 동전: 1개\n",
            "100원 동전: 0개\n",
            " 50원 동전: 0개\n",
            "바꾸지 못한 돈 : 0원\n"
          ]
        }
      ]
    },
    {
      "cell_type": "code",
      "source": [
        "# 3번문제\n",
        "\n",
        "grade = input(\"평점을 입력해주세요 : \");\n",
        "toeic = input(\"토익 점수를 입력해주세요 : \");\n",
        "print(\"------------------------------------\");\n",
        "\n",
        "print(f\"grade input: {grade}\");\n",
        "print(f\"toeic input: {toeic}\");\n",
        "\n",
        "if float(grade) >= 4.0 and int(toeic) >= 700:\n",
        "  print(\"면접대상자\");\n",
        "elif float(grade) >= 3.5 and float(grade) < 4.0 and int(toeic) >= 700:\n",
        "  print(\"서류전형 대상자\");\n",
        "elif float(grade) >= 3.0 and float(grade) < 3.5 and int(toeic) >= 700:\n",
        "  print(\"필기시험 대상자\");\n",
        "elif float(grade) < 3.0  or int(toeic) < 700:\n",
        "  print(\"지원할 수 없음\");"
      ],
      "metadata": {
        "colab": {
          "base_uri": "https://localhost:8080/"
        },
        "id": "zujRWWO-KJwE",
        "outputId": "d4d75ca7-2359-48aa-a08d-64610afbc76b"
      },
      "execution_count": null,
      "outputs": [
        {
          "output_type": "stream",
          "name": "stdout",
          "text": [
            "평점을 입력해주세요 : 2.9\n",
            "토익 점수를 입력해주세요 : 800\n",
            "------------------------------------\n",
            "grade input: 2.9\n",
            "toeic input: 800\n",
            "지원할 수 없음\n"
          ]
        }
      ]
    },
    {
      "cell_type": "code",
      "source": [
        "# 4번문제\n",
        "\n",
        "time = input(\"주차시간 입력 : \");\n",
        "print(f\"주차시간 : {time}분\");\n",
        "\n",
        "if int(time) <= 30:\n",
        "  print(\"주치요금 : 0원\");\n",
        "elif int(time) > 30 and int(time) <= 60:\n",
        "  print(\"주차요금 : 5000원\");\n",
        "elif int(time) > 60:\n",
        "  more = int(time) - 60;\n",
        "  if more < 15:\n",
        "    print(\"주차요금 : 5000원\");\n",
        "  else:\n",
        "    morePay = more // 15;\n",
        "    pay = 5000 + (1000 * morePay);\n",
        "    print(f\"주차요금 : {pay}원\");"
      ],
      "metadata": {
        "colab": {
          "base_uri": "https://localhost:8080/"
        },
        "id": "ttghCqOqNy-a",
        "outputId": "7ff87720-c542-4be0-9393-947857a1e6db"
      },
      "execution_count": null,
      "outputs": [
        {
          "output_type": "stream",
          "name": "stdout",
          "text": [
            "주차시간 입력 : 90\n",
            "주차시간 : 90분\n",
            "주차요금 : 7000원\n"
          ]
        }
      ]
    },
    {
      "cell_type": "markdown",
      "source": [],
      "metadata": {
        "id": "hbz6708GR4Bl"
      }
    }
  ]
}